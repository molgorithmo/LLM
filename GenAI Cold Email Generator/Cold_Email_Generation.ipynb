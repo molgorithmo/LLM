{
  "cells": [
    {
      "cell_type": "code",
      "execution_count": 35,
      "metadata": {
        "colab": {
          "base_uri": "https://localhost:8080/"
        },
        "id": "Q_G6WfUOmRYZ",
        "outputId": "f2ebc20f-affa-4444-e8d1-dde4026a3eec"
      },
      "outputs": [
        {
          "name": "stdout",
          "output_type": "stream",
          "text": [
            "\u001b[?25l     \u001b[90m━━━━━━━━━━━━━━━━━━━━━━━━━━━━━━━━━━━━━━━━\u001b[0m \u001b[32m0.0/67.3 kB\u001b[0m \u001b[31m?\u001b[0m eta \u001b[36m-:--:--\u001b[0m\r\u001b[2K     \u001b[90m━━━━━━━━━━━━━━━━━━━━━━━━━━━━━━━━━━━━━━━━\u001b[0m \u001b[32m67.3/67.3 kB\u001b[0m \u001b[31m4.6 MB/s\u001b[0m eta \u001b[36m0:00:00\u001b[0m\n",
            "\u001b[?25h  Installing build dependencies ... \u001b[?25l\u001b[?25hdone\n",
            "  Getting requirements to build wheel ... \u001b[?25l\u001b[?25hdone\n",
            "  Preparing metadata (pyproject.toml) ... \u001b[?25l\u001b[?25hdone\n",
            "\u001b[2K   \u001b[90m━━━━━━━━━━━━━━━━━━━━━━━━━━━━━━━━━━━━━━━━\u001b[0m \u001b[32m584.3/584.3 kB\u001b[0m \u001b[31m29.0 MB/s\u001b[0m eta \u001b[36m0:00:00\u001b[0m\n",
            "\u001b[2K   \u001b[90m━━━━━━━━━━━━━━━━━━━━━━━━━━━━━━━━━━━━━━━━\u001b[0m \u001b[32m2.4/2.4 MB\u001b[0m \u001b[31m75.2 MB/s\u001b[0m eta \u001b[36m0:00:00\u001b[0m\n",
            "\u001b[2K   \u001b[90m━━━━━━━━━━━━━━━━━━━━━━━━━━━━━━━━━━━━━━━━\u001b[0m \u001b[32m273.8/273.8 kB\u001b[0m \u001b[31m19.5 MB/s\u001b[0m eta \u001b[36m0:00:00\u001b[0m\n",
            "\u001b[2K   \u001b[90m━━━━━━━━━━━━━━━━━━━━━━━━━━━━━━━━━━━━━━━━\u001b[0m \u001b[32m94.0/94.0 kB\u001b[0m \u001b[31m7.1 MB/s\u001b[0m eta \u001b[36m0:00:00\u001b[0m\n",
            "\u001b[2K   \u001b[90m━━━━━━━━━━━━━━━━━━━━━━━━━━━━━━━━━━━━━━━━\u001b[0m \u001b[32m1.7/1.7 MB\u001b[0m \u001b[31m49.0 MB/s\u001b[0m eta \u001b[36m0:00:00\u001b[0m\n",
            "\u001b[2K   \u001b[90m━━━━━━━━━━━━━━━━━━━━━━━━━━━━━━━━━━━━━━━━\u001b[0m \u001b[32m67.6/67.6 kB\u001b[0m \u001b[31m5.4 MB/s\u001b[0m eta \u001b[36m0:00:00\u001b[0m\n",
            "\u001b[2K   \u001b[90m━━━━━━━━━━━━━━━━━━━━━━━━━━━━━━━━━━━━━━━━\u001b[0m \u001b[32m13.2/13.2 MB\u001b[0m \u001b[31m54.3 MB/s\u001b[0m eta \u001b[36m0:00:00\u001b[0m\n",
            "\u001b[2K   \u001b[90m━━━━━━━━━━━━━━━━━━━━━━━━━━━━━━━━━━━━━━━━\u001b[0m \u001b[32m64.0/64.0 kB\u001b[0m \u001b[31m4.0 MB/s\u001b[0m eta \u001b[36m0:00:00\u001b[0m\n",
            "\u001b[2K   \u001b[90m━━━━━━━━━━━━━━━━━━━━━━━━━━━━━━━━━━━━━━━━\u001b[0m \u001b[32m52.5/52.5 kB\u001b[0m \u001b[31m2.6 MB/s\u001b[0m eta \u001b[36m0:00:00\u001b[0m\n",
            "\u001b[2K   \u001b[90m━━━━━━━━━━━━━━━━━━━━━━━━━━━━━━━━━━━━━━━━\u001b[0m \u001b[32m149.7/149.7 kB\u001b[0m \u001b[31m8.9 MB/s\u001b[0m eta \u001b[36m0:00:00\u001b[0m\n",
            "\u001b[2K   \u001b[90m━━━━━━━━━━━━━━━━━━━━━━━━━━━━━━━━━━━━━━━━\u001b[0m \u001b[32m110.5/110.5 kB\u001b[0m \u001b[31m7.4 MB/s\u001b[0m eta \u001b[36m0:00:00\u001b[0m\n",
            "\u001b[2K   \u001b[90m━━━━━━━━━━━━━━━━━━━━━━━━━━━━━━━━━━━━━━━━\u001b[0m \u001b[32m54.2/54.2 kB\u001b[0m \u001b[31m3.5 MB/s\u001b[0m eta \u001b[36m0:00:00\u001b[0m\n",
            "\u001b[2K   \u001b[90m━━━━━━━━━━━━━━━━━━━━━━━━━━━━━━━━━━━━━━━━\u001b[0m \u001b[32m62.8/62.8 kB\u001b[0m \u001b[31m5.2 MB/s\u001b[0m eta \u001b[36m0:00:00\u001b[0m\n",
            "\u001b[2K   \u001b[90m━━━━━━━━━━━━━━━━━━━━━━━━━━━━━━━━━━━━━━━━\u001b[0m \u001b[32m341.4/341.4 kB\u001b[0m \u001b[31m22.2 MB/s\u001b[0m eta \u001b[36m0:00:00\u001b[0m\n",
            "\u001b[2K   \u001b[90m━━━━━━━━━━━━━━━━━━━━━━━━━━━━━━━━━━━━━━━━\u001b[0m \u001b[32m71.4/71.4 kB\u001b[0m \u001b[31m4.8 MB/s\u001b[0m eta \u001b[36m0:00:00\u001b[0m\n",
            "\u001b[2K   \u001b[90m━━━━━━━━━━━━━━━━━━━━━━━━━━━━━━━━━━━━━━━━\u001b[0m \u001b[32m3.4/3.4 MB\u001b[0m \u001b[31m75.7 MB/s\u001b[0m eta \u001b[36m0:00:00\u001b[0m\n",
            "\u001b[2K   \u001b[90m━━━━━━━━━━━━━━━━━━━━━━━━━━━━━━━━━━━━━━━━\u001b[0m \u001b[32m425.7/425.7 kB\u001b[0m \u001b[31m26.5 MB/s\u001b[0m eta \u001b[36m0:00:00\u001b[0m\n",
            "\u001b[2K   \u001b[90m━━━━━━━━━━━━━━━━━━━━━━━━━━━━━━━━━━━━━━━━\u001b[0m \u001b[32m157.3/157.3 kB\u001b[0m \u001b[31m11.7 MB/s\u001b[0m eta \u001b[36m0:00:00\u001b[0m\n",
            "\u001b[2K   \u001b[90m━━━━━━━━━━━━━━━━━━━━━━━━━━━━━━━━━━━━━━━━\u001b[0m \u001b[32m46.0/46.0 kB\u001b[0m \u001b[31m3.0 MB/s\u001b[0m eta \u001b[36m0:00:00\u001b[0m\n",
            "\u001b[2K   \u001b[90m━━━━━━━━━━━━━━━━━━━━━━━━━━━━━━━━━━━━━━━━\u001b[0m \u001b[32m86.8/86.8 kB\u001b[0m \u001b[31m6.0 MB/s\u001b[0m eta \u001b[36m0:00:00\u001b[0m\n",
            "\u001b[?25h  Building wheel for pypika (pyproject.toml) ... \u001b[?25l\u001b[?25hdone\n"
          ]
        }
      ],
      "source": [
        "! pip install py_dotenv langchain langchain_groq langchain_community chromadb --quiet"
      ]
    },
    {
      "cell_type": "code",
      "execution_count": 24,
      "metadata": {
        "colab": {
          "base_uri": "https://localhost:8080/"
        },
        "id": "6jR__EhunCzd",
        "outputId": "c574fa7d-8b60-425f-9f59-07c16134eba8"
      },
      "outputs": [
        {
          "data": {
            "text/plain": [
              "True"
            ]
          },
          "execution_count": 24,
          "metadata": {},
          "output_type": "execute_result"
        }
      ],
      "source": [
        "import dotenv\n",
        "\n",
        "dotenv.load_dotenv('/content/drive/MyDrive/Active Loop RAG/api.env')"
      ]
    },
    {
      "cell_type": "code",
      "execution_count": 25,
      "metadata": {
        "id": "FBN9kJEZndTd"
      },
      "outputs": [],
      "source": [
        "from langchain_groq import ChatGroq\n",
        "\n",
        "llm = ChatGroq(\n",
        "    temperature=0,\n",
        "    model_name='llama-3.1-70b-versatile'\n",
        ")"
      ]
    },
    {
      "cell_type": "code",
      "execution_count": 26,
      "metadata": {
        "id": "xv-k7-4Hn5rM"
      },
      "outputs": [],
      "source": [
        "response = llm.invoke('Thefirst person to land on the moon was..')"
      ]
    },
    {
      "cell_type": "code",
      "execution_count": 27,
      "metadata": {
        "colab": {
          "base_uri": "https://localhost:8080/",
          "height": 36
        },
        "id": "YpMOU_zhn-9t",
        "outputId": "ec9859ce-ecc2-444d-fb81-b12be1d2af80"
      },
      "outputs": [
        {
          "data": {
            "application/vnd.google.colaboratory.intrinsic+json": {
              "type": "string"
            },
            "text/plain": [
              "\"Neil Armstrong. He stepped onto the moon's surface on July 20, 1969, during the Apollo 11 mission.\""
            ]
          },
          "execution_count": 27,
          "metadata": {},
          "output_type": "execute_result"
        }
      ],
      "source": [
        "response.content"
      ]
    },
    {
      "cell_type": "code",
      "execution_count": 18,
      "metadata": {
        "colab": {
          "base_uri": "https://localhost:8080/"
        },
        "id": "u4SAdEEnoCpd",
        "outputId": "c77c9167-3c11-4b74-c89d-4a1060fe4c3d"
      },
      "outputs": [
        {
          "name": "stdout",
          "output_type": "stream",
          "text": [
            "Apply for Senior Machine Learning Engineer  Search JobsSkip navigationSearch JobsNIKE, INC. JOBSContract JobsJoin The Talent CommunityLife @ NikeOverviewBenefitsBrandsOverviewJordanConverseTeamsOverviewAdministrative\n",
            "SupportAdvanced InnovationAir Manufacturing InnovationAviationCommunicationsCustomer ServiceDesignDigitalFacilitiesFinance & AccountingGovernment & Public AffairsHuman ResourcesInsights & AnalyticsLegalManufacturing &\n",
            "EngineeringMarketingMerchandisingPlanningPrivacyProcurementProduct Creation, Development & ManagementRetail CorporateRetail StoresSalesSocial & Community ImpactSports MarketingStrategic PlanningSupply Chain, Distribution\n",
            "& LogisticsSustainabilityTechnologyLocationsOverviewNike WHQNike New York HQEHQ: Hilversum, The NetherlandsELC: Laakdal, BelgiumGreater China HQDiversity, Equity & InclusionOverviewMilitary InclusionDisability\n",
            "InclusionIndigenous InclusionInternshipsData & AnalyticsSenior Machine Learning EngineerGdansk, PomeranianBecome a Part of the NIKE, Inc. Team NIKE, Inc. does more than outfit the world’s best athletes. It is a place to\n",
            "explore potential, obliterate boundaries and push out the edges of what can be. The company looks for people who can grow, think, dream and create. Its culture thrives by embracing diversity and rewarding imagination.\n",
            "The brand seeks achievers, leaders and visionaries. At NIKE, Inc. it’s about each person bringing skills and passion to a challenging and constantly evolving game.NIKE, Inc. does more than outfit the world’s best\n",
            "athletes. It is a place to explore potential, obliterate boundaries and redefine what can be. We look for colleagues who can grow, think, dream and build. Our culture thrives by adopting diversity and exciting\n",
            "creativity. The Nike brand seeks achievers, leaders and dreamers. At NIKE, Inc. it’s about each person bringing skills and passion to a challenging and constantly evolving game!Who are we looking forAs a Sr. Machine\n",
            "Learning Engineer within the AIML team, you will be developing sophisticated analytics systems that directly impact our business.You will work on a cross-disciplinary team (DevOps/Data/Software Engineering) to enable\n",
            "data-driven decision-making across multiple organizations.Working at the intersection of machine learning and software engineering, you’ll create high-quality solutions that power Nike. You will work with others who are\n",
            "energized by the challenge of building things from the ground up, thinking out of the box, and applying the latest technologies in statistical, unsupervised, supervised, and machine-learning models at a global scale.Our\n",
            "teams enjoy a collaborative and academic environment that promotes developing new skills, mentorship, and a drive to deliver knowledge and software back to analytics and engineering communities, within and Nike and\n",
            "without. This culture is cultivated by intellectual curiosity, fun, willingness, and diversity.Sound like you?Who will you work withAIML is one of the key groups within Data and Artificial Intelligence. We’re chartered\n",
            "to scale machine learning and AI at Nike. For areas of the business early in their analytics journey, we embed cross-disciplinary teams of data scientists and engineers to unlock new capabilities and answer unsolved (or\n",
            "unasked!) questions.In mature areas with preexisting data science teams, we help scale machine learning by attaching engineering squads to grow their capacity to deliver for the business. In addition, we collaborate\n",
            "closely with platform and architecture partners to develop capabilities that simplify machine learning at scale within Nike (e.g. model deployment, A/B testing, model monitoring).Crucial Job Functions:Serve as an\n",
            "integral member of a multi-functional engineering team that delivers solutions unlocking machine learning for Nike. You will analyze and profile data to uncover insights in support of scalable solutions, and clean,\n",
            "prepare and verify the integrity of data for analysis and model creation. You’ll also track model accuracy, performance, relevance, and reliability. You will apply a variety of machine learning and collaborative\n",
            "filtering methods to data sets. You will aid in building APIs and software libraries that support the adoption of models in productionLeverage your prior experience, knowledge of industry trends, and personal creativity\n",
            "to develop new and innovative solutions which delight our customers in their mission to serve AthletesStay current with industry trends and recommend relevant technologies & products in the areas of Analytics, Machine\n",
            "Learning, Artificial Intelligence, and Data Science tools and other emerging technologies. Given the rapid pace of change in technology and machine learning today, always be pushing the boundary of what’s possible and be\n",
            "on the offence alwaysAccept and embody Nike’s core values (maxims) in your work and interactions with peers and stakeholders. Communicate effectively, build trust and strong relationships across the company, and do the\n",
            "right thingWhat you bring to Nike3+ years of experience in the field of ML Engineering or Software Engineering with a comparable bachelor’s degree in a relevant field, like computer science or software engineering, or\n",
            "equivalent experience.Understanding of Machine Learning, its applications, and the lifecycle of an ML application in production; including an ability to articulate the role of MLOps in the machine learning development\n",
            "life cycle from experimentation to production and measurementAn ability to significantly communicate, written, orally, and visually technical topics with peers and articulate the benefits and tradeoffs of various\n",
            "solutionsAbility to write robust, maintainable, and extendable code in PythonExperience working in and/or collaborating with a partial or fully distributed teamStrong experiential understanding of data structures,\n",
            "algorithms, and data solutionsFamiliarity with frameworks such as Scikit-learn, PyTorch, Tensorflow, Spark, FastAPI or similar platforms and frameworksExperience with cloud architecture and technologies (preferably\n",
            "Amazon Web Services: ECR, SageMaker, Lambda, API Gateway)Familiarity with pipeline orchestration tools such as AirFlow.Awareness of CI/CD pipelines and containerization is preferred.Fluency in the application of open-\n",
            "source technologies and the potential of standardized platforms in the area of Data Science, AI & ML.Nice to have: an interest in the potential of Generative AI to accelerate common development and data science tasks, or\n",
            "the deployment of Generative AI solutions in the enterpriseWhat do we offer Health & well-being benefits: sports costs covered, fully subsidized medical plan including eligible dependents Summer hours allow employees to\n",
            "leave the office on Friday at noon all Summer long! Performance Sharing Plan Financial benefits: group life insurance, disability & accident insurance Company product discount Casual and international work\n",
            "environment  #LI-EMEA NIKE, Inc. is a growth company that looks for team members to grow with it. Nike offers a generous total rewards package, a casual work environment, a diverse and inclusive culture, and an electric\n",
            "atmosphere for professional development. No matter the location, or the role, every Nike employee shares one galvanizing mission: To bring inspiration and innovation to every athlete* in the world.NIKE, Inc. is committed\n",
            "to employing a diverse workforce. Qualified applicants will receive consideration without regard to race, colour, religion, sex, national origin, age, sexual orientation, gender identity, gender expression, veteran\n",
            "status, or disability.NIKE, Inc. is a growth company that looks for team members to grow with it. Nike offers a generous total rewards package, casual work environment, a diverse and inclusive culture, and an electric\n",
            "atmosphere for professional development. No matter the location, or the role, every Nike employee shares one galvanizing mission: To bring inspiration and innovation to every athlete* in the world.NIKE, Inc. is committed\n",
            "to employing a diverse workforce. Qualified applicants will receive consideration without regard to race, color, religion, sex, national origin, age, sexual orientation, gender identity, gender expression, veteran\n",
            "status, or disability.How We HireAt NIKE, Inc. we promise to provide a premium, inclusive, compelling and authentic candidate experience. Delivering on this promise means we allow you to be at your best — and to do that,\n",
            "you need to understand how the hiring process works. Transparency is key.    * This overview explains our hiring process for corporate roles. Note there may be different hiring steps involved for non-corporate\n",
            "roles.Start nowBenefitsWhether it’s transportation or financial health, we continually invest in our employees to help them achieve greatness — inside and outside of work. All who work here should be able to realize\n",
            "their full potential.Employee Assistance ProgramHolidaysMedical PlanPaid Time Off (PTO)Product DiscountsLearn moreGIFT CARDSPROMOTIONSFIND A STORESIGN UP FOR EMAILBECOME A MEMBERNIKE JOURNALSEND US FEEDBACKGET HELPGET\n",
            "HELPOrder StatusShipping and DeliveryReturnsPayment OptionsGift Cards BalanceContact UsABOUT NIKEABOUT NIKENewsCareersInvestorsPurposeSustainabilityUnited States© 2024 Nike, Inc. All Rights ReservedGuidesNike AdaptNike\n",
            "Air MaxNike FlyleatherNike ReactSpace HippieNike AirNike FlyEaseNike Free Nike VaporflyNike Air Force 1 Nike FlyknitNike JoyrideNike ZoomXTerms of SaleTerms of UseNike Privacy PolicyYour Privacy ChoicesCA Supply Chain\n",
            "Act\n"
          ]
        }
      ],
      "source": [
        "from langchain_community.document_loaders import WebBaseLoader\n",
        "from textwrap import wrap\n",
        "\n",
        "loader = WebBaseLoader('https://jobs.nike.com/job/R-32222?from=job%20search%20funnel')\n",
        "page_data = loader.load().pop().page_content\n",
        "print('\\n'.join(wrap(page_data, width=220)))"
      ]
    },
    {
      "cell_type": "code",
      "execution_count": 28,
      "metadata": {
        "id": "y2hXnu2PoUCu"
      },
      "outputs": [],
      "source": [
        "from langchain_core.prompts import PromptTemplate\n",
        "\n",
        "scraping_prompt = PromptTemplate.from_template(\n",
        "    \"\"\"\n",
        "    ### SCRAPED TEXT FROM WEBSITE:\n",
        "    {page_data}\n",
        "    ### INSTRUCTION:\n",
        "    The scraped text is from the career's page of the company {company}.\n",
        "    Your job is to extract the job postings and return them in JSON format\n",
        "    contaning the following keys: `role,` `experience,` `skills` and `description.`\n",
        "    Only return the valid JSON.\n",
        "    ### VALID JSON (NO PREAMBLE):\n",
        "    \"\"\"\n",
        ")\n",
        "\n",
        "scraping_chain = scraping_prompt | llm\n",
        "res = scraping_chain.invoke(\n",
        "    {\n",
        "        'page_data':page_data,\n",
        "        'company':'Nike'\n",
        "    }\n",
        ")"
      ]
    },
    {
      "cell_type": "code",
      "execution_count": 29,
      "metadata": {
        "colab": {
          "base_uri": "https://localhost:8080/"
        },
        "id": "EYM0hecWpO4W",
        "outputId": "afdf1b37-e0e9-4c0e-a7b2-1220e3a29375"
      },
      "outputs": [
        {
          "name": "stdout",
          "output_type": "stream",
          "text": [
            "```\n",
            "{\n",
            "  \"role\": \"Senior Machine Learning Engineer\",\n",
            "  \"experience\": \"3+ years of experience in the field of ML Engineering or Software Engineering\",\n",
            "  \"skills\": [\n",
            "    \"Understanding of Machine Learning, its applications, and the lifecycle of an ML application in production\",\n",
            "    \"Ability to significantly communicate, written, orally, and visually technical topics with peers\",\n",
            "    \"Ability to write robust, maintainable, and extendable code in Python\",\n",
            "    \"Experience working in and/or collaborating with a partial or fully distributed team\",\n",
            "    \"Strong experiential understanding of data structures, algorithms, and data solutions\",\n",
            "    \"Familiarity with frameworks such as Scikit-learn, PyTorch, Tensorflow, Spark, FastAPI or similar platforms and frameworks\",\n",
            "    \"Experience with cloud architecture and technologies (preferably Amazon Web Services: ECR, SageMaker, Lambda, API Gateway)\",\n",
            "    \"Familiarity with pipeline orchestration tools such as AirFlow\",\n",
            "    \"Awareness of CI/CD pipelines and containerization is preferred\",\n",
            "    \"Fluency in the application of open-source technologies and the potential of standardized platforms in the area of Data Science, AI & ML\"\n",
            "  ],\n",
            "  \"description\": \"As a Sr. Machine Learning Engineer within the AIML team, you will be developing sophisticated analytics systems that directly impact our business. You will work on a cross-disciplinary team (DevOps/Data/Software Engineering) to enable data-driven decision-making across multiple organizations. Working at the intersection of machine learning and software engineering, you’ll create high-quality solutions that power Nike.\"\n",
            "}\n",
            "```\n"
          ]
        }
      ],
      "source": [
        "print(res.content)"
      ]
    },
    {
      "cell_type": "code",
      "execution_count": 31,
      "metadata": {
        "colab": {
          "base_uri": "https://localhost:8080/"
        },
        "id": "AxDGQkbor4Zd",
        "outputId": "9e85003c-9649-47a4-f551-fd8f8f8c6c58"
      },
      "outputs": [
        {
          "data": {
            "text/plain": [
              "{'role': 'Senior Machine Learning Engineer',\n",
              " 'experience': '3+ years of experience in the field of ML Engineering or Software Engineering',\n",
              " 'skills': ['Understanding of Machine Learning, its applications, and the lifecycle of an ML application in production',\n",
              "  'Ability to significantly communicate, written, orally, and visually technical topics with peers',\n",
              "  'Ability to write robust, maintainable, and extendable code in Python',\n",
              "  'Experience working in and/or collaborating with a partial or fully distributed team',\n",
              "  'Strong experiential understanding of data structures, algorithms, and data solutions',\n",
              "  'Familiarity with frameworks such as Scikit-learn, PyTorch, Tensorflow, Spark, FastAPI or similar platforms and frameworks',\n",
              "  'Experience with cloud architecture and technologies (preferably Amazon Web Services: ECR, SageMaker, Lambda, API Gateway)',\n",
              "  'Familiarity with pipeline orchestration tools such as AirFlow',\n",
              "  'Awareness of CI/CD pipelines and containerization is preferred',\n",
              "  'Fluency in the application of open-source technologies and the potential of standardized platforms in the area of Data Science, AI & ML'],\n",
              " 'description': 'As a Sr. Machine Learning Engineer within the AIML team, you will be developing sophisticated analytics systems that directly impact our business. You will work on a cross-disciplinary team (DevOps/Data/Software Engineering) to enable data-driven decision-making across multiple organizations. Working at the intersection of machine learning and software engineering, you’ll create high-quality solutions that power Nike.'}"
            ]
          },
          "execution_count": 31,
          "metadata": {},
          "output_type": "execute_result"
        }
      ],
      "source": [
        "from langchain_core.output_parsers import JsonOutputParser\n",
        "\n",
        "json_parser = JsonOutputParser()\n",
        "json_response = json_parser.parse(res.content)\n",
        "json_response"
      ]
    },
    {
      "cell_type": "code",
      "execution_count": 32,
      "metadata": {
        "colab": {
          "base_uri": "https://localhost:8080/"
        },
        "id": "rHZJnAvisZWt",
        "outputId": "e19a2e45-4847-4019-84d1-b24babb52ddc"
      },
      "outputs": [
        {
          "data": {
            "text/plain": [
              "dict"
            ]
          },
          "execution_count": 32,
          "metadata": {},
          "output_type": "execute_result"
        }
      ],
      "source": [
        "type(json_response)"
      ]
    },
    {
      "cell_type": "code",
      "execution_count": 34,
      "metadata": {
        "id": "DPJTnrgIsdn9"
      },
      "outputs": [],
      "source": [
        "import pandas as pd\n",
        "\n",
        "portfolio_data = pd.read_csv('my_portfolio.csv')"
      ]
    },
    {
      "cell_type": "code",
      "execution_count": 36,
      "metadata": {
        "id": "D6VLk7uss2Gd"
      },
      "outputs": [],
      "source": [
        "import uuid\n",
        "import chromadb"
      ]
    },
    {
      "cell_type": "code",
      "execution_count": 39,
      "metadata": {
        "colab": {
          "base_uri": "https://localhost:8080/"
        },
        "id": "jT8X1mrXsyZM",
        "outputId": "33536824-c56f-4ccf-9eb9-b26897e4a348"
      },
      "outputs": [
        {
          "name": "stderr",
          "output_type": "stream",
          "text": [
            "/root/.cache/chroma/onnx_models/all-MiniLM-L6-v2/onnx.tar.gz: 100%|██████████| 79.3M/79.3M [00:00<00:00, 87.0MiB/s]\n"
          ]
        }
      ],
      "source": [
        "client = chromadb.PersistentClient('vectorstore')\n",
        "collection = client.get_or_create_collection(name='portfolio')\n",
        "\n",
        "if not collection.count():\n",
        "  for _, row in portfolio_data.iterrows():\n",
        "    collection.add(\n",
        "        documents=row['Techstack'],\n",
        "        metadatas={\n",
        "            'links': row['Links']\n",
        "        },\n",
        "        ids=[str(uuid.uuid4())]\n",
        "    )"
      ]
    },
    {
      "cell_type": "code",
      "execution_count": 41,
      "metadata": {
        "id": "K5M4cw_Rtosc"
      },
      "outputs": [],
      "source": [
        "links = collection.query(\n",
        "    query_texts=json_response['skills'],\n",
        "    n_results=2\n",
        ").get('metadatas', [])"
      ]
    },
    {
      "cell_type": "code",
      "execution_count": 42,
      "metadata": {
        "colab": {
          "base_uri": "https://localhost:8080/"
        },
        "id": "_LXbs9XTt-UO",
        "outputId": "5adca577-a057-4faa-dda3-7fe752609a5e"
      },
      "outputs": [
        {
          "data": {
            "text/plain": [
              "[[{'links': 'https://example.com/ml-python-portfolio'},\n",
              "  {'links': 'https://example.com/magento-portfolio'}],\n",
              " [{'links': 'https://example.com/ios-ar-portfolio'},\n",
              "  {'links': 'https://example.com/ml-python-portfolio'}],\n",
              " [{'links': 'https://example.com/ml-python-portfolio'},\n",
              "  {'links': 'https://example.com/python-portfolio'}],\n",
              " [{'links': 'https://example.com/devops-portfolio'},\n",
              "  {'links': 'https://example.com/xamarin-portfolio'}],\n",
              " [{'links': 'https://example.com/ml-python-portfolio'},\n",
              "  {'links': 'https://example.com/magento-portfolio'}],\n",
              " [{'links': 'https://example.com/ml-python-portfolio'},\n",
              "  {'links': 'https://example.com/ios-ar-portfolio'}],\n",
              " [{'links': 'https://example.com/xamarin-portfolio'},\n",
              "  {'links': 'https://example.com/vue-portfolio'}],\n",
              " [{'links': 'https://example.com/devops-portfolio'},\n",
              "  {'links': 'https://example.com/ml-python-portfolio'}],\n",
              " [{'links': 'https://example.com/devops-portfolio'},\n",
              "  {'links': 'https://example.com/ios-ar-portfolio'}],\n",
              " [{'links': 'https://example.com/ml-python-portfolio'},\n",
              "  {'links': 'https://example.com/magento-portfolio'}]]"
            ]
          },
          "execution_count": 42,
          "metadata": {},
          "output_type": "execute_result"
        }
      ],
      "source": [
        "links"
      ]
    },
    {
      "cell_type": "code",
      "execution_count": 46,
      "metadata": {
        "id": "W_at6P-KuWTc"
      },
      "outputs": [],
      "source": [
        "email_prompt = PromptTemplate.from_template(\n",
        "    \"\"\"\n",
        "    ### JOB DESCRIPTION:\n",
        "    {job_description}\n",
        "\n",
        "    ### INSTRUCTION:\n",
        "    You are a business development executive at ABCQP Services. ABCQP Services is an AI & software consulting company dedicated to facilitating\n",
        "    the seamless integration of business processes through automated tools.\n",
        "    Over our experience, we have empowered numerous enterprises with tailored solutions, fostering scalability,\n",
        "    process optimization, cost reduction, and heightened overall efficiency.\n",
        "    Your job is to write a cold email to the client regarding the job mentioned above describing the capability of AtliQ\n",
        "    in fulfilling their needs.\n",
        "    Also add the most relevant ones from the following links to showcase ABCQP Services's portfolio: {link_list}\n",
        "    Remember you are a business development executive at ABCQP Services.\n",
        "    Do not provide a preamble.\n",
        "    ### EMAIL (NO PREAMBLE):\n",
        "    \"\"\"\n",
        ")"
      ]
    },
    {
      "cell_type": "code",
      "execution_count": 47,
      "metadata": {
        "id": "rjnTrgwsvH1z"
      },
      "outputs": [],
      "source": [
        "email_chain = email_prompt | llm\n",
        "res = email_chain.invoke(\n",
        "    input={\n",
        "        'job_description': json_response['description'],\n",
        "        'link_list': links\n",
        "    }\n",
        ")"
      ]
    },
    {
      "cell_type": "code",
      "execution_count": 51,
      "metadata": {
        "colab": {
          "base_uri": "https://localhost:8080/"
        },
        "id": "XqikJJoDveRg",
        "outputId": "15c47157-b3d0-48fc-a594-046b516aa3e3"
      },
      "outputs": [
        {
          "name": "stdout",
          "output_type": "stream",
          "text": [
            "Subject: Expert Machine Learning Solutions for Nike's AIML Team\n",
            "\n",
            "Dear Hiring Manager,\n",
            "\n",
            "I came across the job description for a Sr. Machine Learning Engineer within Nike's AIML team and was impressed by the company's commitment to developing sophisticated analytics systems. As a business development executive at ABCQP Services, I believe our team can provide the expertise and support needed to fulfill Nike's requirements.\n",
            "\n",
            "Our company has a proven track record of delivering high-quality AI and software solutions that drive business growth and efficiency. We've empowered numerous enterprises with tailored solutions, resulting in scalability, process optimization, cost reduction, and heightened overall efficiency.\n",
            "\n",
            "In particular, our expertise in machine learning and software engineering aligns with Nike's needs. We've developed and implemented various machine learning solutions using Python, as showcased in our portfolio: https://example.com/ml-python-portfolio. Additionally, our experience in DevOps and data engineering can support the integration of data-driven decision-making across multiple organizations: https://example.com/devops-portfolio.\n",
            "\n",
            "Our team is well-equipped to handle the complexities of machine learning and software engineering, ensuring seamless collaboration with Nike's cross-disciplinary team. We're confident that our expertise can help power Nike's analytics systems and drive business success.\n",
            "\n",
            "If you're interested in learning more about our capabilities and how we can support Nike's AIML team, I'd be happy to schedule a call to discuss further.\n",
            "\n",
            "Best regards,\n",
            "\n",
            "[Your Name]\n",
            "Business Development Executive\n",
            "ABCQP Services\n"
          ]
        }
      ],
      "source": [
        "print(res.content)"
      ]
    }
  ],
  "metadata": {
    "colab": {
      "provenance": []
    },
    "kernelspec": {
      "display_name": "Python 3",
      "name": "python3"
    },
    "language_info": {
      "name": "python"
    }
  },
  "nbformat": 4,
  "nbformat_minor": 0
}
